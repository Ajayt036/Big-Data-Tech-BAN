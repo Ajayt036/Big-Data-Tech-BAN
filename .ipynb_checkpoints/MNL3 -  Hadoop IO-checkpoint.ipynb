{
 "cells": [
  {
   "cell_type": "markdown",
   "id": "072235f6",
   "metadata": {},
   "source": [
    "## source: Chapter 4 Hadoop/IO"
   ]
  },
  {
   "cell_type": "markdown",
   "id": "c110f439",
   "metadata": {},
   "source": [
    "## 1. What IS A Sequence file?\n",
    "\n",
    "A SequenceFile is a flat, binary file type that serves as a container for data to be used in Apache Hadoop distributed computing projects. SequenceFiles are used extensively with MapReduce.\n",
    "\n",
    "\n",
    "## 2. When would you use a sequence file?\n",
    "\n",
    "As discussed sequence file are the files containing key-value pairs. So, you can use it to hold multiple key-value pairs where the key can be unique file metadata, like filename+timestamp and value is the content of the ingested file\n",
    "\n",
    "## 3. What is a MAP File?\n",
    "\n",
    "A MapFile is a sorted SequenceFile with an index to permit lookups by key.\n"
   ]
  }
 ],
 "metadata": {
  "kernelspec": {
   "display_name": "Python 3 (ipykernel)",
   "language": "python",
   "name": "python3"
  },
  "language_info": {
   "codemirror_mode": {
    "name": "ipython",
    "version": 3
   },
   "file_extension": ".py",
   "mimetype": "text/x-python",
   "name": "python",
   "nbconvert_exporter": "python",
   "pygments_lexer": "ipython3",
   "version": "3.8.2"
  }
 },
 "nbformat": 4,
 "nbformat_minor": 5
}
